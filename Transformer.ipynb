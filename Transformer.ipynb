{
 "cells": [
  {
   "cell_type": "code",
   "execution_count": 1,
   "metadata": {
    "pycharm": {
     "is_executing": false
    }
   },
   "outputs": [],
   "source": [
    "import torch\n",
    "import torch.nn as nn"
   ]
  },
  {
   "cell_type": "code",
   "execution_count": 2,
   "metadata": {
    "pycharm": {
     "is_executing": false
    }
   },
   "outputs": [],
   "source": [
    "# functions to process the time in the data\n",
    "def timeparser(time):import torch\n",
    "import numpy as np\n",
    "import pandas as pd\n",
    "import os\n",
    "import math\n",
    "import warnings\n",
    "import itertools\n",
    "import numbers\n",
    "import torch.utils.data as utils\n",
    "import matplotlib.pyplot as plt\n",
    "from sklearn.metrics import roc_curve, auc, roc_auc_score\n",
    "import torch.nn.functional as F"
   ]
  },
  {
   "cell_type": "code",
   "execution_count": 3,
   "metadata": {
    "pycharm": {
     "is_executing": false,
     "name": "#%%\n"
    }
   },
   "outputs": [],
   "source": [
    "inputpath = 'input/set-a/'\n",
    "inputdict = {\n",
    "    \"ALP\" : 0,             # o\n",
    "    \"ALT\" : 1,             # o\n",
    "    \"AST\" : 2,             # o\n",
    "    \"Albumin\" : 3,         # o\n",
    "    \"BUN\" : 4,             # o\n",
    "    \"Bilirubin\" : 5,       # o\n",
    "    \"Cholesterol\" : 6,     # o\n",
    "    \"Creatinine\" : 7,      # o\n",
    "    \"DiasABP\" : 8,         # o\n",
    "    \"FiO2\" : 9,            # o\n",
    "    \"GCS\" : 10,            # o\n",
    "    \"Glucose\" : 11,        # o\n",
    "    \"HCO3\" : 12,           # o\n",
    "    \"HCT\" : 13,            # o\n",
    "    \"HR\" : 14,             # o\n",
    "    \"K\" : 15,              # o\n",
    "    \"Lactate\" : 16,        # o\n",
    "    \"MAP\" : 17,            # o\n",
    "    \"Mg\" : 18,             # o\n",
    "    \"Na\" : 19,             # o\n",
    "    \"PaCO2\" : 20,          # o\n",
    "    \"PaO2\" : 21,           # o\n",
    "    \"Platelets\" : 22,      # o\n",
    "    \"RespRate\" : 23,       # o\n",
    "    \"SaO2\" : 24,           # o\n",
    "    \"SysABP\" : 25,         # o\n",
    "    \"Temp\" : 26,           # o\n",
    "    \"Tropl\" : 27,          # o\n",
    "    \"TroponinI\" : 27,      # temp: regarded same as Tropl\n",
    "    \"TropT\" : 28,          # o\n",
    "    \"TroponinT\" : 28,      # temp: regarded same as TropT\n",
    "    \"Urine\" : 29,          # o\n",
    "    \"WBC\" : 30,            # o\n",
    "    \"Weight\" : 31,         # o\n",
    "    \"pH\" : 32,             # o\n",
    "    \"NIDiasABP\" : 33,      # unused variable\n",
    "    \"NIMAP\" : 34,          # unused variable\n",
    "    \"NISysABP\" : 35,       # unused variable\n",
    "    \"MechVent\" : 36,       # unused variable\n",
    "    \"RecordID\" : 37,       # unused variable\n",
    "    \"Age\" : 38,            # unused variable\n",
    "    \"Gender\" :39,          # unused variable\n",
    "    \"ICUType\" : 40,        # unused variable\n",
    "    \"Height\": 41           # unused variable\n",
    "}\n",
    "\n",
    "# functions to process the time in the data\n",
    "def timeparser(time):\n",
    "    return pd.to_timedelta(time + ':00')\n",
    "\n",
    "def timedelta_to_day_figure(timedelta):\n",
    "    return timedelta.days + (timedelta.seconds/86400) #(24*60*60)"
   ]
  },
  {
   "cell_type": "code",
   "execution_count": 4,
   "metadata": {
    "pycharm": {
     "is_executing": false
    }
   },
   "outputs": [],
   "source": [
    "# group the data by time\n",
    "def df_to_inputs(df, inputdict, inputs):\n",
    "    grouped_data = df.groupby('Time')\n",
    "            \n",
    "    for row_index, value in df.iterrows():\n",
    "        '''\n",
    "        t = colum ~ time frame\n",
    "        agg_no = row ~ variable\n",
    "        '''\n",
    "        \n",
    "        agg_no = inputdict[value.Parameter]\n",
    "\n",
    "        #print('agg_no : {}\\t  value : {}'.format(agg_no, value.Value))\n",
    "        inputs[agg_no].append(value.Value)    \n",
    "        \n",
    "    return inputs"
   ]
  },
  {
   "cell_type": "code",
   "execution_count": 5,
   "metadata": {
    "pycharm": {
     "is_executing": false
    }
   },
   "outputs": [
    {
     "name": "stdout",
     "output_type": "stream",
     "text": [
      "127.0\n"
     ]
    }
   ],
   "source": [
    "inputs = []\n",
    "\n",
    "# prepare empty list to put data\n",
    "# len(inputdict)-2: two items has same agg_no\n",
    "for i in range(len(inputdict)-2):\n",
    "    t = []\n",
    "    inputs.append(t)\n",
    "\n",
    "# read all the files in the input folder\n",
    "for filename in os.listdir(inputpath):\n",
    "    df = pd.read_csv(inputpath + filename, header=0,\\\n",
    "                     parse_dates=['Time'], date_parser=timeparser)\n",
    "    \n",
    "    inputs = df_to_inputs(df=df, inputdict=inputdict, inputs=inputs)\n",
    "\n",
    "print(inputs[0][0])"
   ]
  },
  {
   "cell_type": "code",
   "execution_count": 6,
   "metadata": {
    "pycharm": {
     "is_executing": false
    }
   },
   "outputs": [
    {
     "name": "stdout",
     "output_type": "stream",
     "text": [
      "127.0\n"
     ]
    },
    {
     "name": "stderr",
     "output_type": "stream",
     "text": [
      "D:\\software\\Anaconda3\\envs\\pytorch\\lib\\site-packages\\numpy\\core\\_asarray.py:136: VisibleDeprecationWarning: Creating an ndarray from ragged nested sequences (which is a list-or-tuple of lists-or-tuples-or ndarrays with different lengths or shapes) is deprecated. If you meant to do this, you must specify 'dtype=object' when creating the ndarray\n",
      "  return array(a, dtype, copy=False, order=order, subok=True)\n"
     ]
    }
   ],
   "source": [
    "# save inputs just in case\n",
    "np.save('input/inputs', inputs)\n",
    "loaded_inputs = np.load('input/inputs.npy', allow_pickle=True)\n",
    "print(loaded_inputs[0][0])"
   ]
  },
  {
   "cell_type": "code",
   "execution_count": 7,
   "metadata": {
    "pycharm": {
     "is_executing": false
    }
   },
   "outputs": [
    {
     "name": "stdout",
     "output_type": "stream",
     "text": [
      "['ALP', 'ALT', 'AST', 'Albumin', 'BUN', 'Bilirubin', 'Cholesterol', 'Creatinine', 'DiasABP', 'FiO2', 'GCS', 'Glucose', 'HCO3', 'HCT', 'HR', 'K', 'Lactate', 'MAP', 'Mg', 'Na', 'PaCO2', 'PaO2', 'Platelets', 'RespRate', 'SaO2', 'SysABP', 'Temp', 'Tropl', 'TropT', 'Urine', 'WBC', 'Weight', 'pH', 'NIDiasABP', 'NIMAP', 'NISysABP', 'MechVent', 'RecordID', 'Age', 'Gender', 'ICUType', 'Height']\n",
      "42\n"
     ]
    }
   ],
   "source": [
    "# make input items list\n",
    "input_columns = list(inputdict.keys())\n",
    "\n",
    "'''\n",
    "remove two overlaped items\n",
    "\"TroponinI\" : 27, #temp\n",
    "\"TroponinT\" : 28, #temp\n",
    "\n",
    "'''\n",
    "input_columns.remove(\"TroponinI\")\n",
    "input_columns.remove(\"TroponinT\")\n",
    "print(input_columns)\n",
    "print(len(input_columns))"
   ]
  },
  {
   "cell_type": "code",
   "execution_count": 8,
   "metadata": {
    "pycharm": {
     "is_executing": false
    }
   },
   "outputs": [],
   "source": [
    "# describe the data\n",
    "# print count, min, max, mean, median, std, var and histogram if hist == True\n",
    "# return values as a list\n",
    "def describe(inputs, input_columns, inputdict, hist = False):\n",
    "    \n",
    "    desc = [] \n",
    "    \n",
    "    for i in range(len(inputdict)-2):\n",
    "        input_arr = np.asarray(inputs[i])\n",
    "        \n",
    "        des = []\n",
    "        \n",
    "        des.append(input_arr.size)\n",
    "        des.append(np.amin(input_arr))\n",
    "        des.append(np.amax(input_arr))\n",
    "        des.append(np.mean(input_arr))\n",
    "        des.append(np.median(input_arr))\n",
    "        des.append(np.std(input_arr))\n",
    "        des.append(np.var(input_arr))\n",
    "        \n",
    "        desc.append(des)\n",
    "        \n",
    "        # print histgram\n",
    "        if hist:\n",
    "            a = np.hstack(input_arr)\n",
    "            plt.hist(a, bins='auto')\n",
    "            plt.title(\"Histogram about {}\".format(input_columns[i]))\n",
    "            plt.show()\n",
    "        \n",
    "        print('count: {}, min: {}, max: {}'.format(des[0], des[1], des[2]))\n",
    "        print('mean: {}, median: {}, std: {}, var: {}'.format(des[3], des[4], des[5], des[6]))\n",
    "    \n",
    "    return desc        "
   ]
  },
  {
   "cell_type": "code",
   "execution_count": 9,
   "metadata": {
    "pycharm": {
     "is_executing": false
    },
    "scrolled": false
   },
   "outputs": [
    {
     "data": {
      "image/png": "[encoded data removed]",
      "text/plain": [
       "<Figure size 432x288 with 1 Axes>"
      ]
     },
     "metadata": {
      "needs_background": "light"
     },
     "output_type": "display_data"
    },
    {
     "name": "stdout",
     "output_type": "stream",
     "text": [
      "count: 3092, min: 12.0, max: 2205.0\n",
      "mean: 116.77328589909443, median: 82.0, std: 133.88381709195593, var: 17924.87647911231\n"
     ]
    },
    {
     "data": {
      "image/png": "[encoded data removed]",
      "text/plain": [
       "<Figure size 432x288 with 1 Axes>"
      ]
     },
     "metadata": {
      "needs_background": "light"
     },
     "output_type": "display_data"
    },
    {
     "name": "stdout",
     "output_type": "stream",
     "text": [
      "count: 3177, min: 1.0, max: 11470.0\n",
      "mean: 394.4749763928234, median: 43.0, std: 1199.9801908265079, var: 1439952.4583760223\n"
     ]
    },
    {
     "data": {
      "image/png": "[encoded data removed]",
      "text/plain": [
       "<Figure size 432x288 with 1 Axes>"
      ]
     },
     "metadata": {
      "needs_background": "light"
     },
     "output_type": "display_data"
    },
    {
     "name": "stdout",
     "output_type": "stream",
     "text": [
      "count: 3182, min: 4.0, max: 18430.0\n",
      "mean: 506.2840980515399, median: 64.0, std: 1516.1916042785547, var: 2298836.9808847774\n"
     ]
    },
    {
     "data": {
      "image/png": "[encoded data removed]",
      "text/plain": [
       "<Figure size 432x288 with 1 Axes>"
      ]
     },
     "metadata": {
      "needs_background": "light"
     },
     "output_type": "display_data"
    },
    {
     "name": "stdout",
     "output_type": "stream",
     "text": [
      "count: 2356, min: 1.0, max: 5.3\n",
      "mean: 2.9223259762309, median: 2.9, std: 0.6514075310421351, var: 0.4243317714984103\n"
     ]
    },
    {
     "data": {
      "image/png": "[encoded data removed]",
      "text/plain": [
       "<Figure size 432x288 with 1 Axes>"
      ]
     },
     "metadata": {
      "needs_background": "light"
     },
     "output_type": "display_data"
    },
    {
     "name": "stdout",
     "output_type": "stream",
     "text": [
      "count: 13916, min: 0.0, max: 197.0\n",
      "mean: 27.416527737855706, median: 20.0, std: 23.393032927627267, var: 547.2339895530536\n"
     ]
    },
    {
     "data": {
      "image/png": "[encoded data removed]",
      "text/plain": [
       "<Figure size 432x288 with 1 Axes>"
      ]
     },
     "metadata": {
      "needs_background": "light"
     },
     "output_type": "display_data"
    },
    {
     "name": "stdout",
     "output_type": "stream",
     "text": [
      "count: 3191, min: 0.1, max: 47.7\n",
      "mean: 2.9085553118144785, median: 0.9, std: 5.903983019417633, var: 34.85701549357175\n"
     ]
    },
    {
     "data": {
      "image/png": "[encoded data removed]",
      "text/plain": [
       "<Figure size 432x288 with 1 Axes>"
      ]
     },
     "metadata": {
      "needs_background": "light"
     },
     "output_type": "display_data"
    },
    {
     "name": "stdout",
     "output_type": "stream",
     "text": [
      "count: 315, min: 28.0, max: 330.0\n",
      "mean: 156.51746031746032, median: 152.0, std: 45.99491531484598, var: 2115.532234819854\n"
     ]
    },
    {
     "data": {
      "image/png": "[encoded data removed]",
      "text/plain": [
       "<Figure size 432x288 with 1 Axes>"
      ]
     },
     "metadata": {
      "needs_background": "light"
     },
     "output_type": "display_data"
    },
    {
     "name": "stdout",
     "output_type": "stream",
     "text": [
      "count: 13983, min: 0.1, max: 22.1\n",
      "mean: 1.5049774726453549, median: 1.0, std: 1.635940329877449, var: 2.6763007629195372\n"
     ]
    },
    {
     "data": {
      "image/png": "[encoded data removed]",
      "text/plain": [
       "<Figure size 432x288 with 1 Axes>"
      ]
     },
     "metadata": {
      "needs_background": "light"
     },
     "output_type": "display_data"
    },
    {
     "name": "stdout",
     "output_type": "stream",
     "text": [
      "count: 145567, min: 0.0, max: 268.0\n",
      "mean: 59.29051227269917, median: 58.0, std: 13.318150168032814, var: 177.37312389827247\n"
     ]
    },
    {
     "data": {
      "image/png": "[encoded data removed]",
      "text/plain": [
       "<Figure size 432x288 with 1 Axes>"
      ]
     },
     "metadata": {
      "needs_background": "light"
     },
     "output_type": "display_data"
    },
    {
     "name": "stdout",
     "output_type": "stream",
     "text": [
      "count: 32390, min: 0.21, max: 1.0\n",
      "mean: 0.5452014510651436, median: 0.5, std: 0.18984649512536758, var: 0.03604169171138622\n"
     ]
    },
    {
     "data": {
      "image/png": "[encoded data removed]",
      "text/plain": [
       "<Figure size 432x288 with 1 Axes>"
      ]
     },
     "metadata": {
      "needs_background": "light"
     },
     "output_type": "display_data"
    },
    {
     "name": "stdout",
     "output_type": "stream",
     "text": [
      "count: 61563, min: 3.0, max: 15.0\n",
      "mean: 11.398713512986697, median: 13.0, std: 3.973384107597854, var: 15.787781266511196\n"
     ]
    },
    {
     "data": {
      "image/png": "[encoded data removed]",
      "text/plain": [
       "<Figure size 432x288 with 1 Axes>"
      ]
     },
     "metadata": {
      "needs_background": "light"
     },
     "output_type": "display_data"
    },
    {
     "name": "stdout",
     "output_type": "stream",
     "text": [
      "count: 13021, min: 10.0, max: 1143.0\n",
      "mean: 141.5095614776131, median: 127.0, std: 67.69497269352857, var: 4582.609327977579\n"
     ]
    },
    {
     "data": {
      "image/png": "[encoded data removed]",
      "text/plain": [
       "<Figure size 432x288 with 1 Axes>"
      ]
     },
     "metadata": {
      "needs_background": "light"
     },
     "output_type": "display_data"
    },
    {
     "name": "stdout",
     "output_type": "stream",
     "text": [
      "count: 13613, min: 5.0, max: 50.0\n",
      "mean: 23.11574230514949, median: 23.0, std: 4.710165655553443, var: 22.185660502755194\n"
     ]
    },
    {
     "data": {
      "image/png": "[encoded data removed]",
      "text/plain": [
       "<Figure size 432x288 with 1 Axes>"
      ]
     },
     "metadata": {
      "needs_background": "light"
     },
     "output_type": "display_data"
    },
    {
     "name": "stdout",
     "output_type": "stream",
     "text": [
      "count: 18271, min: 9.0, max: 61.8\n",
      "mean: 30.679043292649556, median: 30.3, std: 5.013220252647734, var: 25.132377301557415\n"
     ]
    },
    {
     "data": {
      "image/png": "[encoded data removed]",
      "text/plain": [
       "<Figure size 432x288 with 1 Axes>"
      ]
     },
     "metadata": {
      "needs_background": "light"
     },
     "output_type": "display_data"
    },
    {
     "name": "stdout",
     "output_type": "stream",
     "text": [
      "count: 228538, min: 0.0, max: 300.0\n",
      "mean: 87.51744217591822, median: 86.0, std: 18.4049963443074, var: 338.7438904339688\n"
     ]
    },
    {
     "data": {
      "image/png": "[encoded data removed]",
      "text/plain": [
       "<Figure size 432x288 with 1 Axes>"
      ]
     },
     "metadata": {
      "needs_background": "light"
     },
     "output_type": "display_data"
    },
    {
     "name": "stdout",
     "output_type": "stream",
     "text": [
      "count: 14440, min: 1.8, max: 22.9\n",
      "mean: 4.136218836565097, median: 4.1, std: 0.7070606291358562, var: 0.49993473327399274\n"
     ]
    },
    {
     "data": {
      "image/png": "[encoded data removed]",
      "text/plain": [
       "<Figure size 432x288 with 1 Axes>"
      ]
     },
     "metadata": {
      "needs_background": "light"
     },
     "output_type": "display_data"
    },
    {
     "name": "stdout",
     "output_type": "stream",
     "text": [
      "count: 8024, min: 0.3, max: 29.3\n",
      "mean: 2.924779411764706, median: 2.1, std: 2.579141072175832, var: 6.6519686701843\n"
     ]
    },
    {
     "data": {
      "image/png": "[encoded data removed]",
      "text/plain": [
       "<Figure size 432x288 with 1 Axes>"
      ]
     },
     "metadata": {
      "needs_background": "light"
     },
     "output_type": "display_data"
    },
    {
     "name": "stdout",
     "output_type": "stream",
     "text": [
      "count: 145760, min: 0.0, max: 300.0\n",
      "mean: 79.74292672886938, median: 77.0, std: 16.926822834796283, var: 286.51733128058083\n"
     ]
    },
    {
     "data": {
      "image/png": "[encoded data removed]",
      "text/plain": [
       "<Figure size 432x288 with 1 Axes>"
      ]
     },
     "metadata": {
      "needs_background": "light"
     },
     "output_type": "display_data"
    },
    {
     "name": "stdout",
     "output_type": "stream",
     "text": [
      "count: 13590, min: 0.6, max: 9.9\n",
      "mean: 2.0279102281089036, median: 2.0, std: 0.4221239657011912, var: 0.17818864241930044\n"
     ]
    },
    {
     "data": {
      "image/png": "[encoded data removed]",
      "text/plain": [
       "<Figure size 432x288 with 1 Axes>"
      ]
     },
     "metadata": {
      "needs_background": "light"
     },
     "output_type": "display_data"
    },
    {
     "name": "stdout",
     "output_type": "stream",
     "text": [
      "count: 13570, min: 98.0, max: 177.0\n",
      "mean: 139.07582903463523, median: 139.0, std: 5.19109386912776, var: 26.947455558095825\n"
     ]
    },
    {
     "data": {
      "image/png": "[encoded data removed]",
      "text/plain": [
       "<Figure size 432x288 with 1 Axes>"
      ]
     },
     "metadata": {
      "needs_background": "light"
     },
     "output_type": "display_data"
    },
    {
     "name": "stdout",
     "output_type": "stream",
     "text": [
      "count: 23293, min: 0.3, max: 100.0\n",
      "mean: 40.47474777830249, median: 39.0, std: 9.126020846980067, var: 83.28425649951478\n"
     ]
    },
    {
     "data": {
      "image/png": "[encoded data removed]",
      "text/plain": [
       "<Figure size 432x288 with 1 Axes>"
      ]
     },
     "metadata": {
      "needs_background": "light"
     },
     "output_type": "display_data"
    },
    {
     "name": "stdout",
     "output_type": "stream",
     "text": [
      "count: 23268, min: 0.0, max: 500.0\n",
      "mean: 150.41526860924876, median: 121.0, std: 89.29887429104858, var: 7974.288949648496\n"
     ]
    },
    {
     "data": {
      "image/png": "[encoded data removed]",
      "text/plain": [
       "<Figure size 432x288 with 1 Axes>"
      ]
     },
     "metadata": {
      "needs_background": "light"
     },
     "output_type": "display_data"
    },
    {
     "name": "stdout",
     "output_type": "stream",
     "text": [
      "count: 14104, min: 6.0, max: 1047.0\n",
      "mean: 190.81571894498015, median: 172.0, std: 106.3917362142324, var: 11319.201534678808\n"
     ]
    },
    {
     "data": {
      "image/png": "[encoded data removed]",
      "text/plain": [
       "<Figure size 432x288 with 1 Axes>"
      ]
     },
     "metadata": {
      "needs_background": "light"
     },
     "output_type": "display_data"
    },
    {
     "name": "stdout",
     "output_type": "stream",
     "text": [
      "count: 55051, min: 0.0, max: 98.0\n",
      "mean: 19.723728905923597, median: 19.0, std: 5.552301672088858, var: 30.82805385788073\n"
     ]
    },
    {
     "data": {
      "image/png": "[encoded data removed]",
      "text/plain": [
       "<Figure size 432x288 with 1 Axes>"
      ]
     },
     "metadata": {
      "needs_background": "light"
     },
     "output_type": "display_data"
    },
    {
     "name": "stdout",
     "output_type": "stream",
     "text": [
      "count: 8185, min: 26.0, max: 100.0\n",
      "mean: 96.63706780696396, median: 97.0, std: 3.4000868440410503, var: 11.56059054702103\n"
     ]
    },
    {
     "data": {
      "image/png": "[encoded data removed]",
      "text/plain": [
       "<Figure size 432x288 with 1 Axes>"
      ]
     },
     "metadata": {
      "needs_background": "light"
     },
     "output_type": "display_data"
    },
    {
     "name": "stdout",
     "output_type": "stream",
     "text": [
      "count: 145650, min: 0.0, max: 295.0\n",
      "mean: 118.6978990731205, median: 116.0, std: 25.01615547443329, var: 625.8080347210188\n"
     ]
    },
    {
     "data": {
      "image/png": "[encoded data removed]",
      "text/plain": [
       "<Figure size 432x288 with 1 Axes>"
      ]
     },
     "metadata": {
      "needs_background": "light"
     },
     "output_type": "display_data"
    },
    {
     "name": "stdout",
     "output_type": "stream",
     "text": [
      "count: 86405, min: -17.8, max: 42.1\n",
      "mean: 37.00765117759389, median: 37.1, std: 1.7751633850901565, var: 3.151205043764743\n"
     ]
    },
    {
     "data": {
      "image/png": "[encoded data removed]",
      "text/plain": [
       "<Figure size 432x288 with 1 Axes>"
      ]
     },
     "metadata": {
      "needs_background": "light"
     },
     "output_type": "display_data"
    },
    {
     "name": "stdout",
     "output_type": "stream",
     "text": [
      "count: 435, min: 0.3, max: 49.2\n",
      "mean: 7.1512643678160925, median: 2.6, std: 9.756165961249481, var: 95.18277426344301\n"
     ]
    },
    {
     "data": {
      "image/png": "[encoded data removed]",
      "text/plain": [
       "<Figure size 432x288 with 1 Axes>"
      ]
     },
     "metadata": {
      "needs_background": "light"
     },
     "output_type": "display_data"
    },
    {
     "name": "stdout",
     "output_type": "stream",
     "text": [
      "count: 2126, min: 0.01, max: 24.91\n",
      "mean: 1.1984510818438383, median: 0.2, std: 2.7137681474380155, var: 7.364537558049158\n"
     ]
    },
    {
     "data": {
      "image/png": "[encoded data removed]",
      "text/plain": [
       "<Figure size 432x288 with 1 Axes>"
      ]
     },
     "metadata": {
      "needs_background": "light"
     },
     "output_type": "display_data"
    },
    {
     "name": "stdout",
     "output_type": "stream",
     "text": [
      "count: 136918, min: 0.0, max: 11000.0\n",
      "mean: 120.7987284359982, median: 70.0, std: 184.725839486602, var: 34123.635774029855\n"
     ]
    },
    {
     "data": {
      "image/png": "[encoded data removed]",
      "text/plain": [
       "<Figure size 432x288 with 1 Axes>"
      ]
     },
     "metadata": {
      "needs_background": "light"
     },
     "output_type": "display_data"
    },
    {
     "name": "stdout",
     "output_type": "stream",
     "text": [
      "count: 12910, min: 0.1, max: 187.5\n",
      "mean: 12.670084430673894, median: 11.4, std: 7.6412549541321315, var: 58.38877727404884\n"
     ]
    },
    {
     "data": {
      "image/png": "[encoded data removed]",
      "text/plain": [
       "<Figure size 432x288 with 1 Axes>"
      ]
     },
     "metadata": {
      "needs_background": "light"
     },
     "output_type": "display_data"
    },
    {
     "name": "stdout",
     "output_type": "stream",
     "text": [
      "count: 129165, min: -1.0, max: 300.0\n",
      "mean: 83.38661525955173, median: 80.6, std: 25.047736295633516, var: 627.3890935355965\n"
     ]
    },
    {
     "data": {
      "image/png": "[encoded data removed]",
      "text/plain": [
       "<Figure size 432x288 with 1 Axes>"
      ]
     },
     "metadata": {
      "needs_background": "light"
     },
     "output_type": "display_data"
    },
    {
     "name": "stdout",
     "output_type": "stream",
     "text": [
      "count: 24355, min: 1.0, max: 735.0\n",
      "mean: 7.489199753644017, median: 7.38, std: 8.24393650029319, var: 67.96248902086631\n"
     ]
    },
    {
     "data": {
      "image/png": "[encoded data removed]",
      "text/plain": [
       "<Figure size 432x288 with 1 Axes>"
      ]
     },
     "metadata": {
      "needs_background": "light"
     },
     "output_type": "display_data"
    },
    {
     "name": "stdout",
     "output_type": "stream",
     "text": [
      "count: 98210, min: 0.0, max: 201.0\n",
      "mean: 57.95386416861827, median: 56.0, std: 15.54770421605256, var: 241.73110638985855\n"
     ]
    },
    {
     "data": {
      "image/png": "[encoded data removed]",
      "text/plain": [
       "<Figure size 432x288 with 1 Axes>"
      ]
     },
     "metadata": {
      "needs_background": "light"
     },
     "output_type": "display_data"
    },
    {
     "name": "stdout",
     "output_type": "stream",
     "text": [
      "count: 96871, min: 0.0, max: 209.0\n",
      "mean: 76.78045028956033, median: 75.0, std: 15.636321918012724, var: 244.4945631237251\n"
     ]
    },
    {
     "data": {
      "image/png": "[encoded data removed]",
      "text/plain": [
       "<Figure size 432x288 with 1 Axes>"
      ]
     },
     "metadata": {
      "needs_background": "light"
     },
     "output_type": "display_data"
    },
    {
     "name": "stdout",
     "output_type": "stream",
     "text": [
      "count: 98331, min: 0.0, max: 296.0\n",
      "mean: 118.59402426498256, median: 116.0, std: 23.260108542419857, var: 541.0326494051532\n"
     ]
    },
    {
     "data": {
      "image/png": "[encoded data removed]",
      "text/plain": [
       "<Figure size 432x288 with 1 Axes>"
      ]
     },
     "metadata": {
      "needs_background": "light"
     },
     "output_type": "display_data"
    },
    {
     "name": "stdout",
     "output_type": "stream",
     "text": [
      "count: 31144, min: 1.0, max: 1.0\n",
      "mean: 1.0, median: 1.0, std: 0.0, var: 0.0\n"
     ]
    },
    {
     "data": {
      "image/png": "[encoded data removed]",
      "text/plain": [
       "<Figure size 432x288 with 1 Axes>"
      ]
     },
     "metadata": {
      "needs_background": "light"
     },
     "output_type": "display_data"
    },
    {
     "name": "stdout",
     "output_type": "stream",
     "text": [
      "count: 4000, min: 132539.0, max: 142673.0\n",
      "mean: 137605.122, median: 137592.5, std: 2923.2434123958956, var: 8545352.048116\n"
     ]
    },
    {
     "data": {
      "image/png": "[encoded data removed]",
      "text/plain": [
       "<Figure size 432x288 with 1 Axes>"
      ]
     },
     "metadata": {
      "needs_background": "light"
     },
     "output_type": "display_data"
    },
    {
     "name": "stdout",
     "output_type": "stream",
     "text": [
      "count: 4000, min: 15.0, max: 90.0\n",
      "mean: 64.2475, median: 67.0, std: 17.558751201324085, var: 308.30974375\n"
     ]
    },
    {
     "data": {
      "image/png": "[encoded data removed]",
      "text/plain": [
       "<Figure size 432x288 with 1 Axes>"
      ]
     },
     "metadata": {
      "needs_background": "light"
     },
     "output_type": "display_data"
    },
    {
     "name": "stdout",
     "output_type": "stream",
     "text": [
      "count: 4000, min: -1.0, max: 1.0\n",
      "mean: 0.56075, median: 1.0, std: 0.4978046177969827, var: 0.2478094375\n"
     ]
    },
    {
     "data": {
      "image/png": "[encoded data removed]",
      "text/plain": [
       "<Figure size 432x288 with 1 Axes>"
      ]
     },
     "metadata": {
      "needs_background": "light"
     },
     "output_type": "display_data"
    },
    {
     "name": "stdout",
     "output_type": "stream",
     "text": [
      "count: 4000, min: 1.0, max: 4.0\n",
      "mean: 2.76, median: 3.0, std: 1.002447006080621, var: 1.0049000000000003\n"
     ]
    },
    {
     "data": {
      "image/png": "[encoded data removed]",
      "text/plain": [
       "<Figure size 432x288 with 1 Axes>"
      ]
     },
     "metadata": {
      "needs_background": "light"
     },
     "output_type": "display_data"
    },
    {
     "name": "stdout",
     "output_type": "stream",
     "text": [
      "count: 4000, min: -1.0, max: 431.8\n",
      "mean: 88.919475, median: 152.4, std: 86.52038637352688, var: 7485.777258224375\n"
     ]
    },
    {
     "data": {
      "text/plain": [
       "(42, 7)"
      ]
     },
     "execution_count": 9,
     "metadata": {},
     "output_type": "execute_result"
    }
   ],
   "source": [
    "desc = describe(loaded_inputs, input_columns, inputdict, hist=True)\n",
    "desc = np.asarray(desc)\n",
    "desc.shape"
   ]
  },
  {
   "cell_type": "code",
   "execution_count": 10,
   "metadata": {
    "pycharm": {
     "is_executing": false
    }
   },
   "outputs": [],
   "source": [
    "# save desc\n",
    "# 0: count, 1: min, 2: max, 3: mean, 4: median, 5: std, 6: var\n",
    "np.save('input/desc', desc)\n",
    "loaded_desc = np.load('input/desc.npy')"
   ]
  },
  {
   "cell_type": "code",
   "execution_count": 11,
   "metadata": {
    "pycharm": {
     "is_executing": false
    }
   },
   "outputs": [],
   "source": [
    "def normalization(desc, inputs):\n",
    "    # for each catagory\n",
    "    for i in range(desc.shape[0]):\n",
    "        # for each value\n",
    "        for j in range(len(inputs[i])):\n",
    "            inputs[i][j] = (inputs[i][j] - desc[i][3])/desc[i][5]\n",
    "    return inputs"
   ]
  },
  {
   "cell_type": "code",
   "execution_count": 12,
   "metadata": {
    "pycharm": {
     "is_executing": false
    }
   },
   "outputs": [],
   "source": [
    "'''\n",
    "dataframe to dataset\n",
    "'''\n",
    "\n",
    "def df_to_x_m_d(df, inputdict, size, id_posistion, split):\n",
    "    grouped_data = df.groupby('Time')\n",
    "    \n",
    "    #generate input vectors\n",
    "    x = np.zeros((len(inputdict)-2, grouped_data.ngroups))\n",
    "    masking = np.zeros((len(inputdict)-2, grouped_data.ngroups))\n",
    "    delta = np.zeros((split, size))\n",
    "    timetable = np.zeros(grouped_data.ngroups)\n",
    "    id = 0\n",
    "    \n",
    "    all_x = np.zeros((split,1))\n",
    "    \n",
    "    s_dataset = np.zeros((3, split, size))\n",
    "   \n",
    "    if grouped_data.ngroups > size:\n",
    "        \n",
    "        # fill the x and masking vectors\n",
    "        pre_time = pd.to_timedelta(0)\n",
    "        t = 0\n",
    "        for row_index, value in df.iterrows():\n",
    "            '''\n",
    "            t = colum, time frame\n",
    "            agg_no = row, variable\n",
    "            '''\n",
    "            #print(value)\n",
    "            agg_no = inputdict[value.Parameter]\n",
    "\n",
    "            # same timeline check.        \n",
    "            if pre_time != value.Time:\n",
    "                pre_time = value.Time\n",
    "                t += 1\n",
    "                timetable[t] = timedelta_to_day_figure(value.Time)\n",
    "\n",
    "            #print('agg_no : {}\\t t : {}\\t value : {}'.format(agg_no, t, value.Value))\n",
    "            x[agg_no, t] = value.Value    \n",
    "            masking[agg_no, t] = 1\n",
    "        \n",
    "        '''\n",
    "        # generate random index array \n",
    "        ran_index = np.random.choice(grouped_data.ngroups, size=size, replace=False)\n",
    "        ran_index.sort()\n",
    "        ran_index[0] = 0\n",
    "        ran_index[size-1] = grouped_data.ngroups-1\n",
    "        '''\n",
    "        \n",
    "        # generate index that has most parameters and first/last one.\n",
    "        ran_index = grouped_data.count()\n",
    "        ran_index = ran_index.reset_index()\n",
    "        ran_index = ran_index.sort_values('Value', ascending=False)\n",
    "        ran_index = ran_index[:size]\n",
    "        ran_index = ran_index.sort_index()\n",
    "        ran_index = np.asarray(ran_index.index.values)\n",
    "        ran_index[0] = 0\n",
    "        ran_index[size-1] = grouped_data.ngroups-1\n",
    "        \n",
    "        #print(ran_index)\n",
    "        \n",
    "        # take id for outcome comparing\n",
    "        id = x[id_posistion, 0]\n",
    "        \n",
    "        # remove unnesserly parts(rows)\n",
    "        x = x[:split, :]\n",
    "        masking = masking[:split, :]\n",
    "        \n",
    "        # coulme(time) sampling\n",
    "        x_sample = np.zeros((split, size))\n",
    "        m_sample = np.zeros((split, size))\n",
    "        time_sample = np.zeros(size)\n",
    "\n",
    "        t_x_sample = x_sample.T\n",
    "        t_marsking = m_sample.T\n",
    "        #t_time = t_sample.T\n",
    "        \n",
    "        t_x = x.T\n",
    "        t_m = masking.T\n",
    "        #t_t = t.T\n",
    "\n",
    "        it = np.nditer(ran_index, flags=['f_index'])\n",
    "        while not it.finished:\n",
    "            #print('it.index = {}, it[0] = {}, ran_index = {}'.format(it.index, it[0], ran_index[it.index]))\n",
    "            t_x_sample[it.index] = t_x[it[0]]\n",
    "            t_marsking[it.index] = t_m[it[0]]\n",
    "            time_sample[it.index] = timetable[it[0]]\n",
    "            it.iternext()\n",
    "        \n",
    "        x = x_sample\n",
    "        masking = m_sample\n",
    "        timetable = time_sample\n",
    "        '''\n",
    "        # normalize the X\n",
    "        nor_x = x/max_input[:, np.newaxis]\n",
    "        '''\n",
    "        # fill the delta vectors\n",
    "        for index, value in np.ndenumerate(masking):\n",
    "            '''\n",
    "            index[0] = row, agg\n",
    "            index[1] = col, time\n",
    "            '''\n",
    "            if index[1] == 0:\n",
    "                delta[index[0], index[1]] = 0\n",
    "            elif masking[index[0], index[1]-1] == 0:\n",
    "                delta[index[0], index[1]] = timetable[index[1]] - timetable[index[1]-1] + delta[index[0], index[1]-1]\n",
    "            else:\n",
    "                delta[index[0], index[1]] = timetable[index[1]] - timetable[index[1]-1]\n",
    "    \n",
    "    else:\n",
    "                \n",
    "        # fill the x and masking vectors\n",
    "        pre_time = pd.to_timedelta(0)\n",
    "        t = 0\n",
    "        for row_index, value in df.iterrows():\n",
    "            '''\n",
    "            t = colum, time frame\n",
    "            agg_no = row, variable\n",
    "            '''\n",
    "            #print(value)\n",
    "            agg_no = inputdict[value.Parameter]\n",
    "\n",
    "            # same timeline check.        \n",
    "            if pre_time != value.Time:\n",
    "                pre_time = value.Time\n",
    "                t += 1\n",
    "                timetable[t] = timedelta_to_day_figure(value.Time)\n",
    "\n",
    "            #print('agg_no : {}\\t t : {}\\t value : {}'.format(agg_no, t, value.Value))\n",
    "            x[agg_no, t] = value.Value    \n",
    "            masking[agg_no, t] = 1\n",
    "        \n",
    "        # take id for outcome comparing\n",
    "        id = x[id_posistion, 0]\n",
    "        \n",
    "        # remove unnesserly parts(rows)\n",
    "        x = x[:split, :]\n",
    "        masking = masking[:split, :]\n",
    "        \n",
    "        x = np.pad(x, ((0,0), (size-grouped_data.ngroups, 0)), 'constant')\n",
    "        masking = np.pad(masking, ((0,0), (size-grouped_data.ngroups, 0)), 'constant')\n",
    "        timetable = np.pad(timetable, (size-grouped_data.ngroups, 0), 'constant')\n",
    "        '''\n",
    "        # normalize the X\n",
    "        nor_x = x/max_input[:, np.newaxis]\n",
    "        '''\n",
    "        # fill the delta vectors\n",
    "        for index, value in np.ndenumerate(masking):\n",
    "            '''\n",
    "            index[0] = row, agg\n",
    "            index[1] = col, time\n",
    "            '''\n",
    "            if index[1] == 0:\n",
    "                delta[index[0], index[1]] = 0\n",
    "            elif masking[index[0], index[1]-1] == 0:\n",
    "                delta[index[0], index[1]] = timetable[index[1]] - timetable[index[1]-1] + delta[index[0], index[1]-1]\n",
    "            else:\n",
    "                delta[index[0], index[1]] = timetable[index[1]] - timetable[index[1]-1]\n",
    "    \n",
    "\n",
    "    all_x = np.concatenate((all_x, x), axis=1)\n",
    "    all_x = all_x[:,1:]\n",
    "    \n",
    "    s_dataset[0] = x\n",
    "    s_dataset[1] = masking\n",
    "    s_dataset[2] = delta\n",
    "    \n",
    "    return s_dataset, all_x, id"
   ]
  },
  {
   "cell_type": "code",
   "execution_count": 13,
   "metadata": {
    "pycharm": {
     "is_executing": false
    }
   },
   "outputs": [
    {
     "name": "stdout",
     "output_type": "stream",
     "text": [
      "(4000, 3, 33, 49)\n",
      "(3, 33, 49)\n",
      "[0. 0. 0. 0. 0. 0. 0. 0. 0. 0. 0. 0. 0. 0. 0. 0. 0. 0. 0. 0. 0. 0. 0. 0.\n",
      " 0. 0. 0. 0. 0. 0. 0. 0. 0. 0. 0. 0. 0. 0. 0. 0. 0. 0. 0. 0. 0. 0. 0. 0.\n",
      " 0.]\n",
      "(33, 196001)\n",
      "(33, 196000)\n"
     ]
    }
   ],
   "source": [
    "# def df_to_x_m_d(df, inputdict, mean, std, size, id_posistion, split):\n",
    "size = 49 # steps ~ from the paper\n",
    "id_posistion = 37\n",
    "input_length = 33 # input variables ~ from the paper\n",
    "dataset = np.zeros((1,3, input_length, size))\n",
    "\n",
    "all_x_add = np.zeros((input_length,1))\n",
    "\n",
    "for filename in os.listdir(inputpath):\n",
    "    df = pd.read_csv(inputpath + filename,\\\n",
    "                     header=0,\\\n",
    "                     parse_dates=['Time'],\\\n",
    "                     date_parser=timeparser)\n",
    "    s_dataset, all_x, id = df_to_x_m_d(df=df, inputdict=inputdict, size=size, id_posistion=id_posistion, split=input_length)\n",
    "    \n",
    "    dataset = np.concatenate((dataset, s_dataset[np.newaxis, :,:,:]))\n",
    "    all_x_add = np.concatenate((all_x_add, all_x), axis=1)\n",
    "    \n",
    "\n",
    "dataset = dataset[1:, :,:,:]    \n",
    "# (total datasets, kind of data(x, masking, and delta), input length, num of varience)\n",
    "# (4000, 3, 33, 49)\n",
    "print(dataset.shape)\n",
    "print(dataset[0].shape)\n",
    "print(dataset[0][0][0])\n",
    "\n",
    "print(all_x_add.shape)\n",
    "all_x_add = all_x_add[:, 1:]\n",
    "print(all_x_add.shape)"
   ]
  },
  {
   "cell_type": "code",
   "execution_count": 14,
   "metadata": {
    "pycharm": {
     "is_executing": false
    }
   },
   "outputs": [
    {
     "data": {
      "text/plain": [
       "(33, 3920)"
      ]
     },
     "execution_count": 14,
     "metadata": {},
     "output_type": "execute_result"
    }
   ],
   "source": [
    "train_proportion = 0.02 \n",
    "train_index = int(all_x_add.shape[1] * train_proportion) \n",
    "train_x = all_x_add[:, :train_index] \n",
    "train_x.shape"
   ]
  },
  {
   "cell_type": "code",
   "execution_count": 15,
   "metadata": {
    "pycharm": {
     "is_executing": false
    }
   },
   "outputs": [],
   "source": [
    "def get_mean(x):\n",
    "    x_mean = []\n",
    "    for i in range(x.shape[0]):\n",
    "        mean = np.mean(x[i])\n",
    "        x_mean.append(mean)\n",
    "    return x_mean"
   ]
  },
  {
   "cell_type": "code",
   "execution_count": 16,
   "metadata": {
    "pycharm": {
     "is_executing": false
    }
   },
   "outputs": [],
   "source": [
    "def get_median(x):\n",
    "    x_median = []\n",
    "    for i in range(x.shape[0]):\n",
    "        median = np.median(x[i])\n",
    "        x_median.append(median)\n",
    "    return x_median"
   ]
  },
  {
   "cell_type": "code",
   "execution_count": 17,
   "metadata": {
    "pycharm": {
     "is_executing": false
    }
   },
   "outputs": [],
   "source": [
    "def get_std(x):\n",
    "    x_std = []\n",
    "    for i in range(x.shape[0]):\n",
    "        std = np.std(x[i])\n",
    "        x_std.append(std)\n",
    "    return x_std"
   ]
  },
  {
   "cell_type": "code",
   "execution_count": 18,
   "metadata": {
    "pycharm": {
     "is_executing": false
    }
   },
   "outputs": [],
   "source": [
    "def get_var(x):\n",
    "    x_var = []\n",
    "    for i in range(x.shape[0]):\n",
    "        var = np.var(x[i])\n",
    "        x_var.append(var)\n",
    "    return x_var"
   ]
  },
  {
   "cell_type": "code",
   "execution_count": 19,
   "metadata": {
    "pycharm": {
     "is_executing": false
    }
   },
   "outputs": [
    {
     "name": "stdout",
     "output_type": "stream",
     "text": [
      "[1.2721938775510204, 0.5994897959183674, 0.9910714285714286, 0.027372448979591832, 1.9214285714285715, 0.020637755102040817, 0.18852040816326532, 0.09076530612244897, 30.963010204081634, 0.05844132653061224, 3.253826530612245, 8.751275510204081, 1.5002551020408164, 2.084591836734694, 72.92959183673469, 0.26515306122448984, 0.008724489795918368, 41.294132653061226, 0.125, 8.867602040816326, 0.39183673469387753, 1.4454081632653062, 11.824489795918367, 5.966836734693878, 0.6696428571428571, 60.77193877551021, 13.954336734693877, 0.011658163265306122, 0.008548469387755102, 71.73647959183674, 0.7115051020408163, 40.48955612244898, 0.07730102040816327]\n",
      "33\n"
     ]
    }
   ],
   "source": [
    "x_mean = get_mean(train_x)\n",
    "print(x_mean)\n",
    "print(len(x_mean))"
   ]
  },
  {
   "cell_type": "code",
   "execution_count": 20,
   "metadata": {
    "pycharm": {
     "is_executing": false
    }
   },
   "outputs": [
    {
     "name": "stdout",
     "output_type": "stream",
     "text": [
      "[16.3980194885262, 9.693428225354532, 13.793527462996872, 0.2826049273371344, 9.5810692386133, 0.307392093897808, 5.526921205779002, 0.46890169765276063, 31.332733895842075, 0.18304285805230042, 5.662138004873682, 36.94176502923371, 5.837947634912818, 7.7547143223434, 31.568635006283266, 1.0242094896128806, 0.16598624731648423, 41.664861452547214, 0.501744406027204, 34.172410571245805, 3.9016002334308553, 17.040440474591513, 54.26058922557918, 9.731309777915436, 8.041905353160013, 60.85697542160339, 17.924427141071746, 0.3606107425430401, 0.22129618207673368, 132.7042022766892, 3.392231939385368, 43.99040508796177, 0.7519311268931453]\n",
      "33\n"
     ]
    }
   ],
   "source": [
    "x_std = get_std(train_x)\n",
    "print(x_std)\n",
    "print(len(x_std))"
   ]
  },
  {
   "cell_type": "code",
   "execution_count": 21,
   "metadata": {
    "pycharm": {
     "is_executing": false
    }
   },
   "outputs": [],
   "source": [
    "# dataset shape : (4000, 3, 33, 49)\n",
    "def dataset_normalize(dataset, mean, std):\n",
    "    for i in range(dataset.shape[0]):        \n",
    "        dataset[i][0] = (dataset[i][0] - mean[:, None])\n",
    "        dataset[i][0] = dataset[i][0]/std[:, None]\n",
    "        \n",
    "    return dataset"
   ]
  },
  {
   "cell_type": "code",
   "execution_count": 22,
   "metadata": {
    "pycharm": {
     "is_executing": false
    }
   },
   "outputs": [],
   "source": [
    "x_mean = np.asarray(x_mean)\n",
    "x_std = np.asarray(x_std)"
   ]
  },
  {
   "cell_type": "code",
   "execution_count": 23,
   "metadata": {
    "pycharm": {
     "is_executing": false
    }
   },
   "outputs": [
    {
     "name": "stdout",
     "output_type": "stream",
     "text": [
      "[-0.07758217 -0.07758217 -0.07758217 -0.07758217 -0.07758217 -0.07758217\n",
      " -0.07758217 -0.07758217 -0.07758217 -0.07758217 -0.07758217 -0.07758217\n",
      " -0.07758217 -0.07758217 -0.07758217 -0.07758217 -0.07758217 -0.07758217\n",
      " -0.07758217 -0.07758217 -0.07758217 -0.07758217 -0.07758217 -0.07758217\n",
      " -0.07758217 -0.07758217 -0.07758217 -0.07758217 -0.07758217 -0.07758217\n",
      " -0.07758217 -0.07758217 -0.07758217 -0.07758217 -0.07758217 -0.07758217\n",
      " -0.07758217 -0.07758217 -0.07758217 -0.07758217 -0.07758217 -0.07758217\n",
      " -0.07758217 -0.07758217 -0.07758217 -0.07758217 -0.07758217 -0.07758217\n",
      " -0.07758217]\n"
     ]
    }
   ],
   "source": [
    "dataset = dataset_normalize(dataset=dataset, mean=x_mean, std=x_std)\n",
    "print(dataset[0][0][0])"
   ]
  },
  {
   "cell_type": "code",
   "execution_count": 24,
   "metadata": {
    "pycharm": {
     "is_executing": false
    }
   },
   "outputs": [],
   "source": [
    "def normalize_chk(dataset):\n",
    "    all_x_add = np.zeros((dataset[0][0].shape[0],1))\n",
    "    for i in range(dataset.shape[0]):\n",
    "        all_x_add = np.concatenate((all_x_add, dataset[i][0]), axis=1)\n",
    "    \n",
    "    mean = get_mean(all_x_add)\n",
    "    median = get_median(all_x_add)\n",
    "    std = get_std(all_x_add)\n",
    "    var = get_var(all_x_add)\n",
    "    \n",
    "    print('mean')\n",
    "    print(mean)\n",
    "    print('median')\n",
    "    print(median)\n",
    "    print('std')\n",
    "    print(std)\n",
    "    print('var')\n",
    "    print(var)\n",
    "    \n",
    "    return mean, median, std, var"
   ]
  },
  {
   "cell_type": "code",
   "execution_count": 25,
   "metadata": {
    "pycharm": {
     "is_executing": false
    }
   },
   "outputs": [
    {
     "name": "stdout",
     "output_type": "stream",
     "text": [
      "mean\n",
      "[0.030704770871132072, 0.5548944681696184, 0.4880229158286005, 0.021550491376789393, -0.005757284670703076, 0.08281609540317826, 0.008381934992154692, 0.024648224034510776, 0.026524091169643563, 0.019891052489639564, 0.02883352030366132, 0.008150265649371232, 0.008996860660094285, -0.007364409561423002, 0.12181637905839743, 0.009805919792176553, 0.0008824757885899097, 0.03223715057824019, 0.00019116880391255287, 0.010479070857850152, 0.017423818828437233, 0.010113644521165224, -0.0009578632551376655, -0.1351642226821991, -9.516429058008069e-06, 0.04950633902260032, -0.015497584120015583, -0.00041029955940889034, 0.008008825880133427, 0.013600506480388968, 0.006036871096233946, 0.0846116603456305, 0.026534399690904577]\n",
      "median\n",
      "[-0.07758216645864964, -0.06184497186973717, -0.0718504698113025, -0.09685764943134834, -0.20054427366884017, -0.06713821048664252, -0.03410947996981513, -0.1935700096135376, 0.3841665982908597, -0.31927673743989476, -0.5746639392772688, -0.23689381119929698, -0.256983309180234, -0.26881607111282346, 0.31900043068890843, -0.2588855736190352, -0.05256152203551825, 0.4489602675924697, -0.24913082935940623, -0.25949594695195205, -0.1004297496541099, -0.0848222301190225, -0.21792040898708379, -0.6131586467666684, -0.08326917909817545, 0.4638426577879061, -0.778509495721575, -0.03232894057202048, -0.03862908662740033, -0.3145075956586204, -0.20974541680948047, 0.25711161001893534, -0.10280332552205713]\n",
      "std\n",
      "[1.333835809421902, 15.63585921982847, 14.081833218615847, 1.1268346316798572, 0.9651170436656489, 2.709692715158359, 1.143713847295353, 1.2178487206148743, 0.9966173210713155, 1.0012705824284274, 0.9997113102837096, 1.0433847046081848, 1.013716525739865, 1.0067067248616455, 1.0309715270382296, 1.0207073208587494, 1.160685912492345, 1.0058176339479203, 0.9919960421308979, 1.0135479391735829, 1.1389316773916809, 1.0208126345809143, 0.9902591486086901, 0.9013173835785093, 0.998156227344145, 1.0214199575770697, 0.9991011845035325, 1.3520683682729688, 1.253446364690317, 1.094028735762029, 1.0263452627195095, 1.035075479402155, 3.9808484125415373]\n",
      "var\n",
      "[1.7791179664961807, 244.48009354229498, 198.29802679691275, 1.2697562871530792, 0.9314509079739219, 7.342434610582281, 1.308081364495138, 1.483155506303286, 0.9932460846593656, 1.002542779236562, 0.9994227039091717, 1.0886516418103092, 1.0276211945581026, 1.0134584298816607, 1.062902289563539, 1.0418434348546461, 1.3471917874581876, 1.0116691127605928, 0.984056147603366, 1.027279425003017, 1.297165365766228, 1.0420584349200273, 0.9806131814032077, 0.8123730259408097, 0.9963158541858965, 1.043298729736743, 0.9982031768763616, 1.8280888724843285, 1.571127789155371, 1.1968988746730636, 1.0533845983067789, 1.071381248059601, 15.847154083634477]\n"
     ]
    }
   ],
   "source": [
    "nor_mean, nor_median, nor_std, nor_var = normalize_chk(dataset)"
   ]
  },
  {
   "cell_type": "code",
   "execution_count": 26,
   "metadata": {
    "pycharm": {
     "is_executing": false
    }
   },
   "outputs": [
    {
     "name": "stdout",
     "output_type": "stream",
     "text": [
      "(4000, 3, 33, 49)\n"
     ]
    }
   ],
   "source": [
    "np.save('input/x_mean_aft_nor', nor_mean)\n",
    "np.save('input/x_median_aft_nor', nor_median)\n",
    "np.save('input/dataset', dataset)\n",
    "\n",
    "t_dataset = np.load('input/dataset.npy', allow_pickle=True)\n",
    "\n",
    "print(t_dataset.shape)"
   ]
  },
  {
   "cell_type": "code",
   "execution_count": 27,
   "metadata": {
    "pycharm": {
     "is_executing": false
    }
   },
   "outputs": [],
   "source": [
    "'''\n",
    "Y values\n",
    "'''\n",
    "def df_to_y3(df):\n",
    "    '''\n",
    "    RecordID  SAPS-I  SOFA  Length_of_stay  Survival  In-hospital_death\n",
    "    '''\n",
    "    output = np.zeros((4000,3))\n",
    "    \n",
    "    for row_index, value in df.iterrows():\n",
    "        los = value[3] # Length_of_stay\n",
    "        sur = value[4] # Survival\n",
    "        ihd = value[5] # In-hospital_death\n",
    "\n",
    "        output[row_index][0] = ihd\n",
    "        output[row_index][1] = ihd\n",
    "\n",
    "        # length-of-stay less than 3 yes/no 1/0\n",
    "        if los < 3:\n",
    "            output[row_index][2] = 0\n",
    "        else:\n",
    "            output[row_index][2] = 1\n",
    "\n",
    "    return output"
   ]
  },
  {
   "cell_type": "code",
   "execution_count": 28,
   "metadata": {
    "pycharm": {
     "is_executing": false
    }
   },
   "outputs": [],
   "source": [
    "# only check In-hospital_death\n",
    "def df_to_y1(df):\n",
    "    output = df.values\n",
    "    output = output[:,5:]\n",
    "\n",
    "    return output"
   ]
  },
  {
   "cell_type": "code",
   "execution_count": 29,
   "metadata": {
    "pycharm": {
     "is_executing": false
    }
   },
   "outputs": [
    {
     "name": "stdout",
     "output_type": "stream",
     "text": [
      "(4000, 1)\n"
     ]
    }
   ],
   "source": [
    "A_outcomes = pd.read_csv('input/Outcomes-a.txt')\n",
    "y1_outcomes = df_to_y1(A_outcomes)\n",
    "print(y1_outcomes.shape)\n",
    "np.save('input/y1_out', y1_outcomes)"
   ]
  },
  {
   "cell_type": "code",
   "execution_count": 30,
   "metadata": {
    "pycharm": {
     "is_executing": false
    }
   },
   "outputs": [],
   "source": [
    "def df_to_y2(df):\n",
    "    '''\n",
    "    RecordID  SAPS-I  SOFA  Length_of_stay  Survival  In-hospital_death\n",
    "    '''\n",
    "    output = np.zeros((4000,2))\n",
    "    \n",
    "    for row_index, value in df.iterrows():\n",
    "        ihd = value[5] # In-hospital_death\n",
    "\n",
    "        output[row_index][0] = ihd\n",
    "        output[row_index][1] = ihd\n",
    "        \n",
    "    return output"
   ]
  },
  {
   "cell_type": "code",
   "execution_count": 31,
   "metadata": {
    "pycharm": {
     "is_executing": false
    }
   },
   "outputs": [
    {
     "name": "stdout",
     "output_type": "stream",
     "text": [
      "(4000, 2)\n"
     ]
    }
   ],
   "source": [
    "A_outcomes = pd.read_csv('input/Outcomes-a.txt')\n",
    "y2_outcomes = df_to_y2(A_outcomes)\n",
    "print(y2_outcomes.shape)\n",
    "np.save('input/y2_out', y2_outcomes)"
   ]
  },
  {
   "cell_type": "code",
   "execution_count": 32,
   "metadata": {
    "pycharm": {
     "is_executing": false
    }
   },
   "outputs": [],
   "source": [
    "#layers\n",
    "# shape of input: [D, T, embed_size]\n",
    "# shape of output: [D, T, embed_size]\n",
    "class MultiHeadAttention(nn.Module):\n",
    "    def __init__(self, embed_size, heads):\n",
    "        super(MultiHeadAttention, self).__init__()\n",
    "        self.embed_size = embed_size\n",
    "        self.heads = heads\n",
    "        self.per_dim = embed_size // heads\n",
    "        self.queries = nn.Linear(self.per_dim, self.per_dim)\n",
    "        self.keys = nn.Linear(self.per_dim, self.per_dim)\n",
    "        self.values = nn.Linear(self.per_dim, self.per_dim)\n",
    "        self.linears = nn.Linear(embed_size, embed_size)\n",
    "\n",
    "    def forward(self, x):\n",
    "        D, T, E = x.shape\n",
    "\n",
    "        x = x.view(D, T, self.heads, self.per_dim)\n",
    "\n",
    "        # compute queries, keys and values\n",
    "        queries = self.queries(x)\n",
    "        queries = queries.transpose(1, 2)\n",
    "        keys = self.keys(x)\n",
    "        keys = keys.transpose(1, 2)\n",
    "        values = self.values(x)\n",
    "        values = values.transpose(1, 2)  #[D, heads, T, per_dim]\n",
    "\n",
    "        # scaled dot-product\n",
    "        attn = torch.softmax(torch.matmul(queries, torch.transpose(keys, 2, 3))\n",
    "                        / (self.embed_size ** (1 / 2)), dim=-1)  # [D, heads, T, T]\n",
    "        # print(attn.shape)\n",
    "        out = torch.matmul(attn, values)  # [D, heads, T, per_dim]\n",
    "        # print(out.shape)\n",
    "        out = out.transpose(1, 2)\n",
    "\n",
    "        out = out.reshape(D, T, self.heads*self.per_dim)\n",
    "        out = self.linears(out)\n",
    "        return out\n",
    "\n",
    "\n",
    "# input: [C, T, 1]\n",
    "# output: [C, T, embed_size]\n",
    "class PositionalEncoding(nn.Module):\n",
    "    def __init__(self, d_model, dropout=0.1, max_len=5000):\n",
    "        super(PositionalEncoding, self).__init__()\n",
    "\n",
    "        pe = torch.zeros(max_len, d_model)\n",
    "        position = torch.arange(0, max_len, dtype=torch.float).unsqueeze(1)\n",
    "\n",
    "        div_term = torch.exp(torch.arange(0, d_model, 2).float() * (-math.log(10000.0) / d_model))\n",
    "\n",
    "        pe[:, 0::2] = torch.sin(position * div_term)\n",
    "        pe[:, 1::2] = torch.cos(position * div_term)\n",
    "\n",
    "        pe = pe.unsqueeze(0).transpose(0, 1)\n",
    "\n",
    "        self.register_buffer('pe', pe)\n",
    "\n",
    "    def forward(self, x):\n",
    "        x = x + self.pe[:x.size(1), :].squeeze(1)\n",
    "        return x"
   ]
  },
  {
   "cell_type": "code",
   "execution_count": 163,
   "metadata": {
    "pycharm": {
     "is_executing": false
    }
   },
   "outputs": [],
   "source": [
    "# define model\n",
    "\n",
    "class TransformerLayer(nn.Module):\n",
    "    def __init__(self, embed_size, heads, dropout):\n",
    "        super(TransformerLayer, self).__init__()\n",
    "        # self.conv1 = nn.Conv2d(D, D, (1, 3))\n",
    "        self.attn = MultiHeadAttention(embed_size, heads)\n",
    "        self.fc1 = nn.Linear(embed_size, 1024, bias=True)\n",
    "        self.dropout = nn.Dropout(dropout)\n",
    "        self.fc2 = nn.Linear(1024, embed_size)\n",
    "\n",
    "    def forward(self, x_pe):\n",
    "        N, T, E = x_pe.shape\n",
    "        attn = self.attn(x_pe)  # [D, T, embed_size]\n",
    "        norm1 = nn.LayerNorm(E)(attn + x_pe)\n",
    "        feed_in = F.relu(self.fc1(norm1)) # [C, T, embed_size]\n",
    "        feed_in = self.fc2(feed_in)  # [C, T, embed_size]\n",
    "        feed_in = self.dropout(feed_in)\n",
    "        \n",
    "        norm2 = nn.LayerNorm(E)(feed_in + norm1)\n",
    "\n",
    "        return norm2\n",
    "\n",
    "\n",
    "class STransformer(nn.Module):\n",
    "    def __init__(self, embed_size, heads, num_layers, dropout):\n",
    "        super(STransformer, self).__init__()\n",
    "        self.num_layers = num_layers\n",
    "        self.linear = nn.Linear(1, embed_size)\n",
    "        self.pe1 = PositionalEncoding(embed_size)\n",
    "        self.pe2 = PositionalEncoding(embed_size)\n",
    "        self.trans1 = TransformerLayer(embed_size, heads, dropout)\n",
    "        self.trans2 = TransformerLayer(embed_size, heads, dropout)\n",
    "        self.f1 = nn.Linear(embed_size, embed_size, bias=True)\n",
    "\n",
    "    def forward(self, x):\n",
    "        x = x.unsqueeze(2)  #[33, 49, 1]\n",
    "        x = self.linear(x)  #[33, 49, embed_size], 投影到高维空间\n",
    "        # 时间依赖\n",
    "        x_pe = self.pe1(x)\n",
    "        c_s = x_pe + x\n",
    "        for i in range(self.num_layers):\n",
    "            t_trans_out = self.trans1(c_s)\n",
    "            c_s = t_trans_out\n",
    "\n",
    "        # 变量之间的关系\n",
    "        x_T = x.transpose(0, 1)\n",
    "        x_T_pe = self.pe2(x_T)\n",
    "        c_T = x_T_pe + x_T\n",
    "        for i in range(self.num_layers):\n",
    "            s_trans_out = self.trans2(c_T)\n",
    "            c_T = s_trans_out\n",
    "        s_trans_out = s_trans_out.transpose(0, 1)\n",
    "\n",
    "        # fusion\n",
    "        out = self.f1(t_trans_out + s_trans_out)\n",
    "\n",
    "        return out\n",
    "\n",
    "\n",
    "class Transformer(nn.Module):\n",
    "    def __init__(self, embed_size, heads, x_mean, num_layers, dropout):\n",
    "        super(Transformer, self).__init__()\n",
    "        self.x_mean = x_mean\n",
    "        self.zeros = torch.autograd.Variable(torch.zeros((33, 49)))\n",
    "        self.sttransformer = STransformer(embed_size, heads, num_layers, dropout)\n",
    "        self.f1 = nn.Linear(33*49*embed_size, embed_size, bias = True)\n",
    "        self.f2 = nn.Linear(embed_size, int(embed_size / 2), bias = True)\n",
    "        self.f3 = nn.Linear(int(embed_size / 2), 1, bias = True)\n",
    "        self.dropout2 = nn.Dropout(dropout)\n",
    "        self.dropout1 = nn.Dropout(0.2)\n",
    "        self.dropout_in = nn.Dropout(0.2)\n",
    "\n",
    "    def forward(self, input):\n",
    "        # input_size: [3, 33, 49]\n",
    "        X = torch.squeeze(input[0])  # .size = (33,49)\n",
    "        Mask = torch.squeeze(input[1])  # .size = (33,49)\n",
    "        Delta = torch.squeeze(input[2])  # .size = (33,49)\n",
    "\n",
    "        gamma_x = torch.exp(-torch.max(self.zeros, nn.Linear(49, 49, bias=True)(Delta)))\n",
    "\n",
    "        X = Mask * X + (1 - Mask) * (gamma_x * X + (1 - gamma_x) * self.x_mean)  # [33, 49]\n",
    "        \n",
    "        trans_out = self.sttransformer(X)  # [33, 49, embed_size]\n",
    "        trans_out = torch.flatten(trans_out)\n",
    "        \n",
    "        trans_out = self.dropout_in(trans_out)\n",
    "        out = F.relu(self.f1(trans_out))\n",
    "        out = self.dropout1(out)\n",
    "        # print(out.shape)\n",
    "        out = F.relu(self.f2(out))  # [33,1]\n",
    "        out = self.dropout2(out)\n",
    "        # print(out.shape)\n",
    "        out = self.f3(out)\n",
    "        out = torch.sigmoid(out)\n",
    "        \n",
    "        return out\n",
    "\n",
    "    "
   ]
  },
  {
   "cell_type": "code",
   "execution_count": 164,
   "metadata": {
    "pycharm": {
     "is_executing": false
    }
   },
   "outputs": [],
   "source": [
    "def count_parameters(model):\n",
    "    return sum(p.numel() for p in model.parameters() if p.requires_grad)"
   ]
  },
  {
   "cell_type": "code",
   "execution_count": 165,
   "metadata": {
    "pycharm": {
     "is_executing": false
    }
   },
   "outputs": [],
   "source": [
    "def data_dataloader(dataset, outcomes,\\\n",
    "                    train_proportion = 0.8, dev_proportion = 0.2, test_proportion = 0.2):\n",
    "    \n",
    "    train_index = int(np.floor(dataset.shape[0] * train_proportion))\n",
    "    dev_index = int(np.floor(dataset.shape[0] * (train_proportion - dev_proportion)))\n",
    "    \n",
    "    # split dataset to tarin/dev/test set\n",
    "    train_data, train_label = dataset[:train_index, :,:,:], outcomes[:train_index, :]\n",
    "    dev_data, dev_label = dataset[dev_index:train_index, :,:,:], outcomes[dev_index:train_index, :]\n",
    "    test_data, test_label = dataset[train_index: , :,:,:], outcomes[train_index: , :]   \n",
    "    \n",
    "    # ndarray to tensor\n",
    "    train_data, train_label = torch.Tensor(train_data), torch.Tensor(train_label)\n",
    "    dev_data, dev_label = torch.Tensor(dev_data), torch.Tensor(dev_label)\n",
    "    test_data, test_label = torch.Tensor(test_data), torch.Tensor(test_label)\n",
    "    \n",
    "    # tensor to dataset\n",
    "    train_dataset = utils.TensorDataset(train_data, train_label)\n",
    "    dev_dataset = utils.TensorDataset(dev_data, dev_label)\n",
    "    test_dataset = utils.TensorDataset(test_data, test_label)\n",
    "    \n",
    "    # dataset to dataloader \n",
    "    train_dataloader = utils.DataLoader(train_dataset)\n",
    "    dev_dataloader = utils.DataLoader(dev_dataset)\n",
    "    test_dataloader = utils.DataLoader(test_dataset)\n",
    "    \n",
    "    print(\"train_data.shape : {}\\t train_label.shape : {}\".format(train_data.shape, train_label.shape))\n",
    "    print(\"dev_data.shape : {}\\t dev_label.shape : {}\".format(dev_data.shape, dev_label.shape))\n",
    "    print(\"test_data.shape : {}\\t test_label.shape : {}\".format(test_data.shape, test_label.shape))\n",
    "    \n",
    "    return train_dataloader, dev_dataloader, test_dataloader"
   ]
  },
  {
   "cell_type": "code",
   "execution_count": 166,
   "metadata": {
    "pycharm": {
     "is_executing": false
    }
   },
   "outputs": [
    {
     "name": "stdout",
     "output_type": "stream",
     "text": [
      "(4000, 3, 33, 49)\n",
      "(4000, 1)\n",
      "train_data.shape : torch.Size([3200, 3, 33, 49])\t train_label.shape : torch.Size([3200, 1])\n",
      "dev_data.shape : torch.Size([800, 3, 33, 49])\t dev_label.shape : torch.Size([800, 1])\n",
      "test_data.shape : torch.Size([800, 3, 33, 49])\t test_label.shape : torch.Size([800, 1])\n"
     ]
    }
   ],
   "source": [
    "t_dataset = np.load('input/dataset.npy')\n",
    "t_out = np.load('input/y1_out.npy')\n",
    "\n",
    "print(t_dataset.shape)\n",
    "print(t_out.shape)\n",
    "\n",
    "train_dataloader, dev_dataloader, test_dataloader = data_dataloader(t_dataset, t_out, train_proportion=0.8, dev_proportion=0.2)"
   ]
  },
  {
   "cell_type": "code",
   "execution_count": 167,
   "metadata": {
    "pycharm": {
     "is_executing": false
    }
   },
   "outputs": [
    {
     "data": {
      "text/plain": [
       "'\\nin the paper : 49 layers, 33 input, 18838 parameters\\ninput : 10-weights(*input), 6 - biases\\nY: 1 weight(hidden*output), 1 bias(output)\\nInput : hidden : output : layer  = # of parameters : len(para)\\n1:1:1:1 = 18 : 18\\n2:1:1:1 = 25 : 18  // +7 as expected\\n1:1:1:2 = 34 : 18 // 34 = 16*2 + 2\\n33:33:1:1 = 562 : 18 // 16*33(528) + 33*1 +1 = 562\\n33:33:5:1 = 698 : 18 // 16*33(528) + 33*5(165) +5 = 698\\n33:33:5:49 = 26042 : 18 // 16*33*49(25872) + 33*5(165) +5 = 698\\nweights = 10*33*49(16170) + 33*5(165) = 16335 gap : 2503\\n\\n'"
      ]
     },
     "execution_count": 167,
     "metadata": {},
     "output_type": "execute_result"
    }
   ],
   "source": [
    "'''\n",
    "in the paper : 49 layers, 33 input, 18838 parameters\n",
    "input : 10-weights(*input), 6 - biases\n",
    "Y: 1 weight(hidden*output), 1 bias(output)\n",
    "Input : hidden : output : layer  = # of parameters : len(para)\n",
    "1:1:1:1 = 18 : 18\n",
    "2:1:1:1 = 25 : 18  // +7 as expected\n",
    "1:1:1:2 = 34 : 18 // 34 = 16*2 + 2\n",
    "33:33:1:1 = 562 : 18 // 16*33(528) + 33*1 +1 = 562\n",
    "33:33:5:1 = 698 : 18 // 16*33(528) + 33*5(165) +5 = 698\n",
    "33:33:5:49 = 26042 : 18 // 16*33*49(25872) + 33*5(165) +5 = 698\n",
    "weights = 10*33*49(16170) + 33*5(165) = 16335 gap : 2503\n",
    "\n",
    "'''"
   ]
  },
  {
   "cell_type": "code",
   "execution_count": 168,
   "metadata": {
    "pycharm": {
     "is_executing": false
    }
   },
   "outputs": [],
   "source": [
    "def fit(model, criterion, learning_rate,\\\n",
    "        train_dataloader, dev_dataloader, test_dataloader,\\\n",
    "        learning_rate_decay=0, n_epochs=30):\n",
    "    epoch_losses = []\n",
    "    \n",
    "    # to check the update \n",
    "    old_state_dict = {}\n",
    "    for key in model.state_dict():\n",
    "        old_state_dict[key] = model.state_dict()[key].clone()\n",
    "    \n",
    "    for epoch in range(n_epochs):\n",
    "        \n",
    "        if learning_rate_decay != 0:\n",
    "\n",
    "            # every [decay_step] epoch reduce the learning rate by half\n",
    "            if  epoch % learning_rate_decay == 0:\n",
    "                learning_rate = learning_rate/2\n",
    "                optimizer = torch.optim.SGD(model.parameters(), lr=learning_rate)\n",
    "                print('at epoch {} learning_rate is updated to {}'.format(epoch, learning_rate))\n",
    "        \n",
    "        # train the model\n",
    "        losses, acc = [], []\n",
    "        label, pred = [], []\n",
    "        y_pred_col= []\n",
    "        model.train()\n",
    "        for train_data, train_label in train_dataloader:\n",
    "            # Zero the parameter gradients\n",
    "            optimizer.zero_grad()\n",
    "            \n",
    "            # Squeeze the data [1, 33, 49], [1,5] to [33, 49], [5]\n",
    "            train_data = torch.squeeze(train_data)\n",
    "            train_label = train_label.squeeze(0)\n",
    "            \n",
    "            # Forward pass : Compute predicted y by passing train data to the model\n",
    "            y_pred = model(train_data)\n",
    "            \n",
    "            # y_pred = y_pred[:, None]\n",
    "            # train_label = train_label[:, None]\n",
    "            \n",
    "            # print(y_pred.shape)\n",
    "            # print(train_label.shape)\n",
    "            # print(train_label)\n",
    "            \n",
    "            # Save predict and label\n",
    "            y_pred_col.append(y_pred.item())\n",
    "            pred.append(y_pred.item() > 0.5)\n",
    "            label.append(train_label.item())\n",
    "            \n",
    "            #print('y_pred: {}\\t label: {}'.format(y_pred, train_label))\n",
    "\n",
    "            # Compute loss\n",
    "            loss = criterion(y_pred, train_label)\n",
    "            acc.append(\n",
    "                torch.eq(\n",
    "                    (torch.sigmoid(y_pred).data > 0.5).float(),\n",
    "                    train_label)\n",
    "            )\n",
    "            losses.append(loss.item())\n",
    "\n",
    "            # perform a backward pass, and update the weights.\n",
    "            optimizer.zero_grad()\n",
    "            loss.backward()\n",
    "            optimizer.step()\n",
    "\n",
    "        \n",
    "        train_acc = torch.mean(torch.cat(acc).float())\n",
    "        train_loss = np.mean(losses)\n",
    "        \n",
    "        train_pred_out = pred\n",
    "        train_label_out = label\n",
    "        \n",
    "        # save new params\n",
    "        new_state_dict= {}\n",
    "        for key in model.state_dict():\n",
    "            new_state_dict[key] = model.state_dict()[key].clone()\n",
    "            \n",
    "        # compare params\n",
    "        for key in old_state_dict:\n",
    "            if (old_state_dict[key] == new_state_dict[key]).all():\n",
    "                print('Not updated in {}'.format(key))\n",
    "   \n",
    "        \n",
    "        # dev loss\n",
    "        losses, acc = [], []\n",
    "        label, pred = [], []\n",
    "        model.eval()\n",
    "        for dev_data, dev_label in dev_dataloader:\n",
    "            # Squeeze the data [1, 33, 49], [1,5] to [33, 49], [5]\n",
    "            dev_data = torch.squeeze(dev_data)\n",
    "            dev_label = dev_label.squeeze(0)\n",
    "            \n",
    "            # Forward pass : Compute predicted y by passing train data to the model\n",
    "            y_pred = model(dev_data)\n",
    "            \n",
    "            # Save predict and label\n",
    "            pred.append(y_pred.item())\n",
    "            label.append(dev_label.item())\n",
    "\n",
    "            # Compute loss\n",
    "            loss = criterion(y_pred, dev_label)\n",
    "            acc.append(\n",
    "                torch.eq(\n",
    "                    (torch.sigmoid(y_pred).data > 0.5).float(),\n",
    "                    dev_label)\n",
    "            )\n",
    "            losses.append(loss.item())\n",
    "            \n",
    "        dev_acc = torch.mean(torch.cat(acc).float())\n",
    "        dev_loss = np.mean(losses)\n",
    "        \n",
    "        dev_pred_out = pred\n",
    "        dev_label_out = label\n",
    "        \n",
    "        # test loss\n",
    "        losses, acc = [], []\n",
    "        label, pred = [], []\n",
    "        model.eval()\n",
    "        for test_data, test_label in test_dataloader:\n",
    "            # Squeeze the data [1, 33, 49], [1,5] to [33, 49], [5]\n",
    "            test_data = torch.squeeze(test_data)\n",
    "            test_label = test_label.squeeze(0)\n",
    "            \n",
    "            # Forward pass : Compute predicted y by passing train data to the model\n",
    "            y_pred = model(test_data)\n",
    "            \n",
    "            # Save predict and label\n",
    "            pred.append(y_pred.item())\n",
    "            label.append(test_label.item())\n",
    "\n",
    "            # Compute loss\n",
    "            loss = criterion(y_pred, test_label)\n",
    "            acc.append(\n",
    "                torch.eq(\n",
    "                    (torch.sigmoid(y_pred).data > 0.5).float(),\n",
    "                    test_label)\n",
    "            )\n",
    "            losses.append(loss.item())\n",
    "            \n",
    "        test_acc = torch.mean(torch.cat(acc).float())\n",
    "        test_loss = np.mean(losses)\n",
    "        \n",
    "        test_pred_out = pred\n",
    "        test_label_out = label\n",
    "                \n",
    "        epoch_losses.append([\n",
    "             train_loss, dev_loss, test_loss,\n",
    "             train_acc, dev_acc, test_acc,\n",
    "             train_pred_out, dev_pred_out, test_pred_out,\n",
    "             train_label_out, dev_label_out, test_label_out,\n",
    "         ])\n",
    "        \n",
    "        pred = np.asarray(pred)\n",
    "        label = np.asarray(label)\n",
    "        \n",
    "        auc_score = roc_auc_score(label, pred)\n",
    "        \n",
    "        print(\"Epoch: {} Train: {:.4f}/{:.2f}%, Dev: {:.4f}/{:.2f}%, Test: {:.4f}/{:.2f}% AUC: {:.4f}\".format(\n",
    "            epoch, train_loss, train_acc*100, dev_loss, dev_acc*100, test_loss, test_acc*100, auc_score))\n",
    "        print(\"Epoch: {} Train loss: {:.4f}, Dev loss: {:.4f}, Test loss: {:.4f}, Test AUC: {:.4f}\".format(\n",
    "            epoch, train_loss, dev_loss, test_loss, auc_score))\n",
    "        \n",
    "        # save the parameters\n",
    "        train_log = []\n",
    "        train_log.append(model.state_dict())\n",
    "        torch.save(model.state_dict(), 'save/grud_mean_grud_para.pt')\n",
    "        \n",
    "        #print(train_log)\n",
    "    \n",
    "    return epoch_losses"
   ]
  },
  {
   "cell_type": "code",
   "execution_count": 169,
   "metadata": {
    "pycharm": {
     "is_executing": false
    }
   },
   "outputs": [],
   "source": [
    "def plot_roc_and_auc_score(outputs, labels, title):\n",
    "    false_positive_rate, true_positive_rate, threshold = roc_curve(labels, outputs)\n",
    "    auc_score = roc_auc_score(labels, outputs)\n",
    "    plt.plot(false_positive_rate, true_positive_rate, label = 'ROC curve, AREA = {:.4f}'.format(auc_score))\n",
    "    plt.plot([0,1], [0,1], 'red')\n",
    "    plt.xlabel('False Positive Rate')\n",
    "    plt.ylabel('True Positive Rate')\n",
    "    plt.axis([0, 1, 0, 1])\n",
    "    plt.title(title)\n",
    "    plt.legend(loc = 'lower right')\n",
    "    plt.savefig('roc.png')"
   ]
  },
  {
   "cell_type": "code",
   "execution_count": 188,
   "metadata": {
    "pycharm": {
     "is_executing": false
    }
   },
   "outputs": [
    {
     "name": "stdout",
     "output_type": "stream",
     "text": [
      "torch.Size([33, 1])\n"
     ]
    }
   ],
   "source": [
    "embed_size = 64\n",
    "heads = 2\n",
    "num_layers = 2\n",
    "dropout = 0.5\n",
    "\n",
    "x_mean = torch.Tensor(np.load('input/x_mean_aft_nor.npy'))\n",
    "x_mean = x_mean.reshape(-1,1)\n",
    "print(x_mean.shape)\n",
    "x_median = torch.Tensor(np.load('input/x_median_aft_nor.npy'))"
   ]
  },
  {
   "cell_type": "code",
   "execution_count": 189,
   "metadata": {
    "pycharm": {
     "is_executing": false
    }
   },
   "outputs": [
    {
     "name": "stdout",
     "output_type": "stream",
     "text": [
      "number of parameters :  6908673\n",
      "None\n"
     ]
    }
   ],
   "source": [
    "#dropout_type : Moon, Gal, mloss\n",
    "model = Transformer(embed_size, heads, x_mean, num_layers, dropout)\n",
    "\n",
    "# load the parameters\n",
    "# model.load_state_dict(torch.load('save/grud_para.pt'))\n",
    "# model.eval()\n",
    "\n",
    "count = count_parameters(model)\n",
    "print('number of parameters : ' , count)\n",
    "print(list(model.parameters())[0].grad)\n",
    "\n",
    "criterion = torch.nn.BCELoss()"
   ]
  },
  {
   "cell_type": "code",
   "execution_count": null,
   "metadata": {
    "pycharm": {
     "is_executing": true
    }
   },
   "outputs": [
    {
     "name": "stdout",
     "output_type": "stream",
     "text": [
      "at epoch 0 learning_rate is updated to 0.0005\n"
     ]
    }
   ],
   "source": [
    "'''\n",
    "def fit(model, criterion, learning_rate,\\\n",
    "        train_dataloader, dev_dataloader, test_dataloader,\\\n",
    "        learning_rate_decay=0, n_epochs=30):\n",
    "'''\n",
    "learning_rate = 0.001\n",
    "learning_rate_decay = 5\n",
    "n_epochs = 10\n",
    "\n",
    "# learning_rate = 0.1 learning_rate_decay=True\n",
    "epoch_losses = fit(model, criterion, learning_rate,\\\n",
    "                   train_dataloader, dev_dataloader, test_dataloader,\\\n",
    "                   learning_rate_decay, n_epochs)"
   ]
  },
  {
   "cell_type": "code",
   "execution_count": null,
   "metadata": {
    "pycharm": {
     "is_executing": true
    }
   },
   "outputs": [],
   "source": [
    "learning_rate = 0.0001\n",
    "learning_rate_decay =5 \n",
    "n_epochs = 10\n",
    "\n",
    "# learning_rate = 0.1 learning_rate_decay=True\n",
    "epoch_losses_s = fit(model, criterion, learning_rate,\\\n",
    "                   train_dataloader, dev_dataloader, test_dataloader,\\\n",
    "                   learning_rate_decay, n_epochs)"
   ]
  },
  {
   "cell_type": "code",
   "execution_count": null,
   "metadata": {
    "pycharm": {
     "is_executing": true
    }
   },
   "outputs": [],
   "source": [
    "learning_rate = 0.00005\n",
    "learning_rate_decay = 5\n",
    "n_epochs = 10\n",
    "\n",
    "# learning_rate = 0.1 learning_rate_decay=True\n",
    "epoch_losses_t = fit(model, criterion, learning_rate,\\\n",
    "                   train_dataloader, dev_dataloader, test_dataloader,\\\n",
    "                   learning_rate_decay, n_epochs)"
   ]
  },
  {
   "cell_type": "code",
   "execution_count": null,
   "metadata": {
    "pycharm": {
     "is_executing": true
    }
   },
   "outputs": [],
   "source": [
    "test_preds , test_labels = epoch_losses_t[1][8], epoch_losses_s[1][11]\n",
    "\n",
    "plot_roc_and_auc_score(test_preds, test_labels, 'Transformer')"
   ]
  },
  {
   "cell_type": "code",
   "execution_count": null,
   "metadata": {
    "pycharm": {
     "is_executing": true
    }
   },
   "outputs": [],
   "source": []
  }
 ],
 "metadata": {
  "kernelspec": {
   "display_name": "PyCharm (Trans)",
   "language": "python",
   "name": "pycharm-26c3d83d"
  },
  "language_info": {
   "codemirror_mode": {
    "name": "ipython",
    "version": 3
   },
   "file_extension": ".py",
   "mimetype": "text/x-python",
   "name": "python",
   "nbconvert_exporter": "python",
   "pygments_lexer": "ipython3",
   "version": "3.6.13"
  },
  "pycharm": {
   "stem_cell": {
    "cell_type": "raw",
    "metadata": {
     "collapsed": false
    },
    "source": []
   }
  }
 },
 "nbformat": 4,
 "nbformat_minor": 2
}
